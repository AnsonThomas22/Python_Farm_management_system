{
 "cells": [
  {
   "cell_type": "code",
   "execution_count": 84,
   "id": "0e3edfa9",
   "metadata": {},
   "outputs": [
    {
     "data": {
      "text/plain": [
       "<module 'module3' from 'C:\\\\Users\\\\anube\\\\Downloads\\\\module3.py'>"
      ]
     },
     "execution_count": 84,
     "metadata": {},
     "output_type": "execute_result"
    }
   ],
   "source": [
    "import importlib\n",
    "\n",
    "importlib.reload(m1)\n",
    "importlib.reload(m2)\n",
    "importlib.reload(m3)"
   ]
  },
  {
   "cell_type": "markdown",
   "id": "2a4d00fe",
   "metadata": {},
   "source": [
    "### MODULE 1 TEST"
   ]
  },
  {
   "cell_type": "code",
   "execution_count": 76,
   "id": "2f13d9e2",
   "metadata": {},
   "outputs": [
    {
     "name": "stdout",
     "output_type": "stream",
     "text": [
      "Enter the plant name: corn\n",
      "Enter the sci_name: sweet corn\n",
      "Enter the planting_date: 20-06-2023\n",
      "Enter the expected_harvest_date: 20-06-2024\n",
      "Crop 'corn' added successfully.\n"
     ]
    }
   ],
   "source": [
    "import module1 as m1\n",
    "import module2 as m2\n",
    "import module3 as m3\n",
    "l=[]\n",
    "m1.add_crop(l)\n"
   ]
  },
  {
   "cell_type": "code",
   "execution_count": 77,
   "id": "32471fc5",
   "metadata": {},
   "outputs": [
    {
     "name": "stdout",
     "output_type": "stream",
     "text": [
      "Enter the plant name: chilli\n",
      "Enter the sci_name: Capsicum frutescens\n",
      "Enter the planting_date: 20-08-2023\n",
      "Enter the expected_harvest_date: 19-02-2024\n",
      "Crop 'chilli' added successfully.\n"
     ]
    }
   ],
   "source": [
    "m1.add_crop(l)"
   ]
  },
  {
   "cell_type": "code",
   "execution_count": 78,
   "id": "1dc5580d",
   "metadata": {},
   "outputs": [
    {
     "data": {
      "text/plain": [
       "[{'name': 'corn',\n",
       "  'sci_name': 'sweet corn',\n",
       "  'planting_date': '20-06-2023',\n",
       "  'expected_harvest_date': '20-06-2024'},\n",
       " {'name': 'chilli',\n",
       "  'sci_name': 'Capsicum frutescens',\n",
       "  'planting_date': '20-08-2023',\n",
       "  'expected_harvest_date': '19-02-2024'}]"
      ]
     },
     "execution_count": 78,
     "metadata": {},
     "output_type": "execute_result"
    }
   ],
   "source": [
    "l"
   ]
  },
  {
   "cell_type": "code",
   "execution_count": 80,
   "id": "7cfdf53f",
   "metadata": {},
   "outputs": [
    {
     "name": "stdout",
     "output_type": "stream",
     "text": [
      "Enter the plant name: chilli\n",
      "Enter the harvest_status: good\n",
      "Enter the actual_harvest_date: 20-02-2024\n",
      "Enter the yield_amount: 60%\n",
      "Details of crop 'chilli' updated successfully.\n"
     ]
    }
   ],
   "source": [
    "m1.update_crop(l)"
   ]
  },
  {
   "cell_type": "code",
   "execution_count": 81,
   "id": "779552bd",
   "metadata": {},
   "outputs": [
    {
     "data": {
      "text/plain": [
       "[{'name': 'corn',\n",
       "  'sci_name': 'sweet corn',\n",
       "  'planting_date': '20-06-2023',\n",
       "  'expected_harvest_date': '20-06-2024'},\n",
       " {'name': 'chilli',\n",
       "  'sci_name': 'Capsicum frutescens',\n",
       "  'planting_date': '20-08-2023',\n",
       "  'expected_harvest_date': '19-02-2024'},\n",
       " {'name': 'chilli',\n",
       "  'harvest_status': 'good',\n",
       "  'actual_harvest_date': '20-02-2024',\n",
       "  'yield_amount': '60%'}]"
      ]
     },
     "execution_count": 81,
     "metadata": {},
     "output_type": "execute_result"
    }
   ],
   "source": [
    "l"
   ]
  },
  {
   "cell_type": "code",
   "execution_count": 82,
   "id": "7e84896c",
   "metadata": {},
   "outputs": [
    {
     "name": "stdout",
     "output_type": "stream",
     "text": [
      "Crop 'chilli' not found.\n",
      "Crop 'chilli' removed successfully.\n",
      "Crop 'chilli' not found.\n"
     ]
    }
   ],
   "source": [
    "m1.remove_crop(l,'chilli')"
   ]
  },
  {
   "cell_type": "code",
   "execution_count": 83,
   "id": "b0ac6d05",
   "metadata": {},
   "outputs": [
    {
     "data": {
      "text/plain": [
       "[{'name': 'corn',\n",
       "  'sci_name': 'sweet corn',\n",
       "  'planting_date': '20-06-2023',\n",
       "  'expected_harvest_date': '20-06-2024'},\n",
       " {'name': 'chilli',\n",
       "  'harvest_status': 'good',\n",
       "  'actual_harvest_date': '20-02-2024',\n",
       "  'yield_amount': '60%'}]"
      ]
     },
     "execution_count": 83,
     "metadata": {},
     "output_type": "execute_result"
    }
   ],
   "source": [
    "l"
   ]
  },
  {
   "cell_type": "markdown",
   "id": "47fc34f8",
   "metadata": {},
   "source": [
    "### MODULE 2 TEST"
   ]
  },
  {
   "cell_type": "code",
   "execution_count": 47,
   "id": "9dbc2a2a",
   "metadata": {},
   "outputs": [
    {
     "name": "stdout",
     "output_type": "stream",
     "text": [
      "Enter the name: Farm1\n",
      "Enter the location: 'Mysuru'\n",
      "Enter the acres: 2\n",
      "Farm 'Farm1' added successfully.\n",
      "Enter the name: Farm2\n",
      "Enter the location: 'Mysuru'\n",
      "Enter the acres: 3\n",
      "Farm 'Farm2' added successfully.\n"
     ]
    }
   ],
   "source": [
    "l1=[]\n",
    "m2.add_farm(l1)\n",
    "m2.add_farm(l1)"
   ]
  },
  {
   "cell_type": "code",
   "execution_count": 48,
   "id": "b633f7ad",
   "metadata": {},
   "outputs": [
    {
     "data": {
      "text/plain": [
       "[{'name': 'Farm1', 'location': \"'Mysuru'\", 'acres': '2'},\n",
       " {'name': 'Farm2', 'location': \"'Mysuru'\", 'acres': '3'}]"
      ]
     },
     "execution_count": 48,
     "metadata": {},
     "output_type": "execute_result"
    }
   ],
   "source": [
    "l1"
   ]
  },
  {
   "cell_type": "code",
   "execution_count": 49,
   "id": "f6ae534a",
   "metadata": {},
   "outputs": [
    {
     "name": "stdout",
     "output_type": "stream",
     "text": [
      "Details of farm 'Farm2' updated successfully.\n"
     ]
    }
   ],
   "source": [
    "m2.update_farm(l1, 'Farm2' , 'Bengaluru', '5')"
   ]
  },
  {
   "cell_type": "code",
   "execution_count": 50,
   "id": "207ae84c",
   "metadata": {},
   "outputs": [
    {
     "data": {
      "text/plain": [
       "[{'name': 'Farm1', 'location': \"'Mysuru'\", 'acres': '2'},\n",
       " {'name': 'Farm2', 'location': 'Bengaluru', 'acres': '5'}]"
      ]
     },
     "execution_count": 50,
     "metadata": {},
     "output_type": "execute_result"
    }
   ],
   "source": [
    "l1"
   ]
  },
  {
   "cell_type": "code",
   "execution_count": 51,
   "id": "54525c3f",
   "metadata": {},
   "outputs": [
    {
     "name": "stdout",
     "output_type": "stream",
     "text": [
      "Name: Farm1, Location: 'Mysuru', Acres: 2 acres\n",
      "Name: Farm2, Location: Bengaluru, Acres: 5 acres\n"
     ]
    }
   ],
   "source": [
    "m2.list_farms(l1)"
   ]
  },
  {
   "cell_type": "markdown",
   "id": "c1024756",
   "metadata": {},
   "source": [
    "### MODULE 3 TEST"
   ]
  },
  {
   "cell_type": "code",
   "execution_count": 30,
   "id": "54ec8661",
   "metadata": {},
   "outputs": [
    {
     "name": "stdout",
     "output_type": "stream",
     "text": [
      "The time for the yield from the present day is 2025-07-22 17:19:35.152985\n"
     ]
    }
   ],
   "source": [
    "m3.timeofyield('corn')"
   ]
  },
  {
   "cell_type": "code",
   "execution_count": 62,
   "id": "0b3674aa",
   "metadata": {},
   "outputs": [
    {
     "name": "stdout",
     "output_type": "stream",
     "text": [
      "The crop is 203 days old.\n"
     ]
    }
   ],
   "source": [
    "planting_date = datetime(2024, 1, 1) \n",
    "m3.calculate_crop_age(planting_date)"
   ]
  },
  {
   "cell_type": "code",
   "execution_count": 75,
   "id": "61d2c6d0",
   "metadata": {},
   "outputs": [
    {
     "name": "stdout",
     "output_type": "stream",
     "text": [
      "It is not time to water\n"
     ]
    }
   ],
   "source": [
    "last_watered_date=datetime(2024,7,28)\n",
    "m3.check_watering_time(last_watered_date, 'corn')"
   ]
  },
  {
   "cell_type": "code",
   "execution_count": null,
   "id": "a6583251",
   "metadata": {},
   "outputs": [],
   "source": []
  },
  {
   "cell_type": "code",
   "execution_count": null,
   "id": "7ab787b1",
   "metadata": {},
   "outputs": [],
   "source": []
  },
  {
   "cell_type": "code",
   "execution_count": null,
   "id": "ece194a7",
   "metadata": {},
   "outputs": [],
   "source": []
  },
  {
   "cell_type": "code",
   "execution_count": null,
   "id": "2e8ac145",
   "metadata": {},
   "outputs": [],
   "source": []
  },
  {
   "cell_type": "code",
   "execution_count": null,
   "id": "d26b3ea1",
   "metadata": {},
   "outputs": [],
   "source": []
  },
  {
   "cell_type": "code",
   "execution_count": 37,
   "id": "dbf3230b",
   "metadata": {},
   "outputs": [],
   "source": []
  },
  {
   "cell_type": "code",
   "execution_count": null,
   "id": "d04517db",
   "metadata": {},
   "outputs": [],
   "source": []
  },
  {
   "cell_type": "code",
   "execution_count": null,
   "id": "e67aa48c",
   "metadata": {},
   "outputs": [],
   "source": []
  }
 ],
 "metadata": {
  "kernelspec": {
   "display_name": "Python 3 (ipykernel)",
   "language": "python",
   "name": "python3"
  },
  "language_info": {
   "codemirror_mode": {
    "name": "ipython",
    "version": 3
   },
   "file_extension": ".py",
   "mimetype": "text/x-python",
   "name": "python",
   "nbconvert_exporter": "python",
   "pygments_lexer": "ipython3",
   "version": "3.9.7"
  }
 },
 "nbformat": 4,
 "nbformat_minor": 5
}
